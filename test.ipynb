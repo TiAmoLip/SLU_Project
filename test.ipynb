{
 "cells": [
  {
   "cell_type": "code",
   "execution_count": 15,
   "metadata": {},
   "outputs": [
    {
     "data": {
      "text/plain": [
       "torch.Size([20, 30, 200])"
      ]
     },
     "execution_count": 15,
     "metadata": {},
     "output_type": "execute_result"
    }
   ],
   "source": [
    "import torch\n",
    "from torch import nn\n",
    "char_vocab_size = 100\n",
    "embed_size = 300\n",
    "hidden_size = 200\n",
    "bs = 20\n",
    "seq = 30\n",
    "char_level = nn.ModuleDict({\n",
    "            # \"char_embed\": nn.Embedding(char_vocab_size,embed_size),\n",
    "            \"char_lstm\": nn.LSTM(input_size=embed_size,hidden_size=hidden_size,num_layers=1,bidirectional=True),\n",
    "            \"char_project\":nn.Linear(hidden_size*2,hidden_size),\n",
    "            \"char_attention\": nn.MultiheadAttention(embed_dim=hidden_size,num_heads=4,dropout=0.1,batch_first=True)\n",
    "        })\n",
    "x = torch.randn(bs,seq,embed_size)\n",
    "hidden = char_level['char_lstm'](x)[0]\n",
    "hidden = char_level['char_project'](hidden)\n",
    "char_level['char_attention'](hidden,hidden,hidden)[0].shape\n",
    "# hidden.shape"
   ]
  }
 ],
 "metadata": {
  "kernelspec": {
   "display_name": "slu",
   "language": "python",
   "name": "python3"
  },
  "language_info": {
   "codemirror_mode": {
    "name": "ipython",
    "version": 3
   },
   "file_extension": ".py",
   "mimetype": "text/x-python",
   "name": "python",
   "nbconvert_exporter": "python",
   "pygments_lexer": "ipython3",
   "version": "3.9.13"
  }
 },
 "nbformat": 4,
 "nbformat_minor": 2
}
